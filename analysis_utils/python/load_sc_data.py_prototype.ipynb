{
 "cells": [
  {
   "cell_type": "markdown",
   "metadata": {},
   "source": [
    "# load_sc_data.py\n",
    "\n",
    "Code to read data in the \"SpineCreator log format\"."
   ]
  },
  {
   "cell_type": "code",
   "execution_count": 17,
   "metadata": {
    "collapsed": true
   },
   "outputs": [],
   "source": [
    "import array as ar\n",
    "import numpy as np\n",
    "import struct"
   ]
  },
  {
   "cell_type": "code",
   "execution_count": 2,
   "metadata": {
    "collapsed": true
   },
   "outputs": [],
   "source": [
    "# Just an example path, this is normally passed into the function\n",
    "file_path = '/home/seb/src/SpineML_2_BRAHMS/temp/log/Sebtest1_v_log.bin'"
   ]
  },
  {
   "cell_type": "code",
   "execution_count": 4,
   "metadata": {
    "collapsed": false
   },
   "outputs": [],
   "source": [
    "# If file path ends with .bin, or .xml then find the root name.\n",
    "end = len(file_path)\n",
    "bin_end = file_path [end-4:end]\n",
    "xml_end = file_path [end-7:end]\n",
    "if (bin_end == '.bin'):\n",
    "    base_path = file_path [:end-4]\n",
    "elif (xml_end == 'rep.xml'):\n",
    "    base_path = file_path [:end-7]\n",
    "else:\n",
    "    # Error\n",
    "    print 'Error: Bad SpineCreator log file name: ' + file_path\n",
    "\n",
    "xml_file = base_path + 'rep.xml'\n",
    "bin_file = base_path + '.bin'\n"
   ]
  },
  {
   "cell_type": "code",
   "execution_count": 5,
   "metadata": {
    "collapsed": true
   },
   "outputs": [],
   "source": [
    "dt = 1"
   ]
  },
  {
   "cell_type": "markdown",
   "metadata": {},
   "source": [
    "## Do the XML reading thing\n",
    "\n",
    "Going to optionally read the XML file associated with the binary data."
   ]
  },
  {
   "cell_type": "code",
   "execution_count": 61,
   "metadata": {
    "collapsed": false
   },
   "outputs": [
    {
     "name": "stdout",
     "output_type": "stream",
     "text": [
      "End time = 1000.0 ms  num_neurons = 1  dt = 0.1 ms\n"
     ]
    }
   ],
   "source": [
    "num_neurons = 0\n",
    "if (num_neurons == 0):\n",
    "    # Find the number of neurons in the binary log file from the xml file.\n",
    "    import xml.etree.ElementTree as ET\n",
    "    tree = ET.parse(xml_file)\n",
    "    root = tree.getroot()\n",
    "\n",
    "    # Assumed Analog Log here. May be wrong for event log.\n",
    "    logFileType = root.find('.//LogFileType')\n",
    "    if logFileType.text != 'binary':\n",
    "        print 'File described by ', xml_file, ' is not marked as being in binary format.'\n",
    "        # return\n",
    "\n",
    "    # Log end is in steps of size dt. Unused at present even though\n",
    "    # this is in the UI? Also may need logStartTime in future to\n",
    "    # generate t.\n",
    "    logEndTime = float(root.find('.//LogEndTime').text)\n",
    "    num_neurons = int(root.find('.//LogAll').get('size'))\n",
    "    # Timestep is specified in milliseconds\n",
    "    dt = float(root.find('.//TimeStep').get('dt'))\n",
    "    print 'End time =', logEndTime, 'ms  num_neurons =', num_neurons, ' dt =', dt, 'ms'"
   ]
  },
  {
   "cell_type": "markdown",
   "metadata": {},
   "source": [
    "##Load the binary data"
   ]
  },
  {
   "cell_type": "code",
   "execution_count": 12,
   "metadata": {
    "collapsed": false
   },
   "outputs": [
    {
     "name": "stdout",
     "output_type": "stream",
     "text": [
      "count 10000\n"
     ]
    }
   ],
   "source": [
    "struct_fmt = 'd'\n",
    "struct_len = struct.calcsize(struct_fmt)\n",
    "struct_unpack = struct.Struct(struct_fmt).unpack_from\n",
    "\n",
    "results = []\n",
    "with open(bin_file, \"rb\") as fid:\n",
    "    while True:\n",
    "        data = fid.read(struct_len)\n",
    "        if not data: break\n",
    "        s = struct_unpack(data)\n",
    "        #print 's[0]=', s[0]\n",
    "        results.append(s[0])\n",
    "count = len(results)\n",
    "print 'count', count"
   ]
  },
  {
   "cell_type": "markdown",
   "metadata": {},
   "source": [
    "##Create the time series"
   ]
  },
  {
   "cell_type": "code",
   "execution_count": 16,
   "metadata": {
    "collapsed": false
   },
   "outputs": [
    {
     "name": "stdout",
     "output_type": "stream",
     "text": [
      "[  0.00000000e+00   1.00000000e+00   2.00000000e+00 ...,   9.99700000e+03\n",
      "   9.99800000e+03   9.99900000e+03]  count:  10000\n"
     ]
    }
   ],
   "source": [
    "t = np.linspace (0, (dt*count)-dt, count)\n",
    "print t, ' count: ', len(t)\n"
   ]
  },
  {
   "cell_type": "markdown",
   "metadata": {},
   "source": [
    "##Do a sample plot"
   ]
  },
  {
   "cell_type": "code",
   "execution_count": 60,
   "metadata": {
    "collapsed": false
   },
   "outputs": [
    {
     "data": {
      "text/plain": [
       "<matplotlib.text.Text at 0x7f94140b0190>"
      ]
     },
     "execution_count": 60,
     "metadata": {},
     "output_type": "execute_result"
    },
    {
     "data": {
      "image/png": "[encoded data removed]",
      "text/plain": [
       "<matplotlib.figure.Figure at 0x7f9414240750>"
      ]
     },
     "metadata": {},
     "output_type": "display_data"
    }
   ],
   "source": [
    "%matplotlib inline\n",
    "import matplotlib.pyplot as plt\n",
    "\n",
    "plt.plot (t[:100], results[:100])\n",
    "plt.title(\"Spikin\")"
   ]
  }
 ],
 "metadata": {
  "kernelspec": {
   "display_name": "Python 2",
   "language": "python",
   "name": "python2"
  },
  "language_info": {
   "codemirror_mode": {
    "name": "ipython",
    "version": 2
   },
   "file_extension": ".py",
   "mimetype": "text/x-python",
   "name": "python",
   "nbconvert_exporter": "python",
   "pygments_lexer": "ipython2",
   "version": "2.7.6"
  }
 },
 "nbformat": 4,
 "nbformat_minor": 0
}
